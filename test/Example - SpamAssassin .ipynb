{
 "cells": [
  {
   "cell_type": "code",
   "execution_count": 1,
   "metadata": {},
   "outputs": [],
   "source": [
    "import sys\n",
    "sys.path.append('../')"
   ]
  },
  {
   "cell_type": "code",
   "execution_count": 31,
   "metadata": {},
   "outputs": [],
   "source": [
    "import os\n",
    "import numpy as np\n",
    "import matplotlib.pyplot as plt"
   ]
  },
  {
   "cell_type": "code",
   "execution_count": 41,
   "metadata": {},
   "outputs": [],
   "source": [
    "from LooselySymmetricNN import LooselySymmetricNN\n",
    "from utils.Preprocessing import Preprocessing\n",
    "from sklearn.model_selection import train_test_split"
   ]
  },
  {
   "cell_type": "markdown",
   "metadata": {},
   "source": [
    "## Load data"
   ]
  },
  {
   "cell_type": "code",
   "execution_count": 11,
   "metadata": {},
   "outputs": [],
   "source": [
    "mails_dir = \"../datasets/SpamAssassin\"\n",
    "spam_dirs = [os.path.join(mails_dir, \"spam\"), os.path.join(mails_dir, \"spam_2\")]\n",
    "ham_dirs = [os.path.join(mails_dir, \"easy_ham\"), os.path.join(mails_dir, \"easy_ham_2\")]"
   ]
  },
  {
   "cell_type": "code",
   "execution_count": 12,
   "metadata": {},
   "outputs": [],
   "source": [
    "spam = []\n",
    "ham = []\n",
    "spam_labels = []\n",
    "ham_labels = []"
   ]
  },
  {
   "cell_type": "code",
   "execution_count": 13,
   "metadata": {},
   "outputs": [],
   "source": [
    "for ham_dir in ham_dirs:\n",
    "    ham_dir_files = os.listdir(ham_dir)\n",
    "    for file in ham_dir_files:\n",
    "        with open(os.path.join(ham_dir, file), \"r\", encoding=\"latin-1\") as f:\n",
    "            mail = f.read()\n",
    "            ham.append(mail)\n",
    "            ham_labels.append(0)\n",
    "\n",
    "            \n",
    "for spam_dir in spam_dirs:\n",
    "      spam_dir_files = os.listdir(spam_dir)\n",
    "    for file in spam_dir_files:\n",
    "        with open(os.path.join(spam_dir, file), \"r\", encoding=\"latin-1\") as f:\n",
    "            mail = f.read()\n",
    "            spam.append(mail)\n",
    "            spam_labels.append(1)"
   ]
  },
  {
   "cell_type": "code",
   "execution_count": 16,
   "metadata": {},
   "outputs": [],
   "source": [
    "X_train_spam, X_test_spam, y_train_spam, y_test_spam = train_test_split(\n",
    "    spam, spam_labels, test_size=300)\n",
    "X_train_ham, X_test_ham, y_train_ham, y_test_ham = train_test_split(\n",
    "    ham, ham_labels, test_size=300)"
   ]
  },
  {
   "cell_type": "code",
   "execution_count": 19,
   "metadata": {},
   "outputs": [],
   "source": [
    "X_test = np.concatenate((X_test_spam, X_test_ham))\n",
    "y_test = np.concatenate((y_test_spam, y_test_ham))"
   ]
  },
  {
   "cell_type": "markdown",
   "metadata": {},
   "source": [
    "## Training and evaluation"
   ]
  },
  {
   "cell_type": "code",
   "execution_count": 21,
   "metadata": {},
   "outputs": [],
   "source": [
    "sizes = [50, 100, 200, 300]\n",
    "spam_ratio = 0.31\n",
    "ham_ratio = 0.69"
   ]
  },
  {
   "cell_type": "code",
   "execution_count": 44,
   "metadata": {},
   "outputs": [],
   "source": [
    "results = {\n",
    "    \"accuracy_score\": [],\n",
    "    \"f1_score\": [],\n",
    "    \"precision_score\": [],\n",
    "    \"recall_score\": []\n",
    "}"
   ]
  },
  {
   "cell_type": "code",
   "execution_count": 45,
   "metadata": {},
   "outputs": [
    {
     "name": "stdout",
     "output_type": "stream",
     "text": [
      "50\n",
      "100\n",
      "200\n",
      "300\n"
     ]
    }
   ],
   "source": [
    "for size in sizes:\n",
    "    print(size)\n",
    "    \n",
    "    spam_size = round(spam_ratio*size)\n",
    "    ham_size = round(ham_ratio*size)\n",
    "    \n",
    "    X_spam, drop, y_spam, drop = train_test_split(\n",
    "        X_train_spam, y_train_spam, train_size=spam_size)\n",
    "    X_ham, drop, y_ham, drop = train_test_split(\n",
    "        X_train_ham, y_train_ham, train_size=ham_size)\n",
    "    \n",
    "    X_train = np.concatenate((X_spam, X_ham))\n",
    "    y_train = np.concatenate((y_spam, y_ham))\n",
    "    \n",
    "    pr = Preprocessing()\n",
    "    X_train = (pr.fit(X_train, None)).toarray()\n",
    "    X_test_2 = (pr.transform(X_test)).toarray()\n",
    "\n",
    "    nn = LooselySymmetricNN(n_input=X_train.shape[1], n_hidden=10, enhancement=0.1, epochs=100, enhancement_type=\"save_node_unified\")\n",
    "    nn.fit(X_train, y_train)\n",
    "    y = nn.predict(X_test_2)\n",
    "\n",
    "    results[\"accuracy_score\"].append(nn.accuracy_score(y_test, y) * 100)\n",
    "    results[\"f1_score\"].append(nn.f1_score(y_test, y) * 100)\n",
    "    results[\"precision_score\"].append(nn.precision_score(y_test, y) * 100)\n",
    "    results[\"recall_score\"].append(nn.recall_score(y_test, y) * 100)\n"
   ]
  },
  {
   "cell_type": "markdown",
   "metadata": {},
   "source": [
    "## Graph"
   ]
  },
  {
   "cell_type": "code",
   "execution_count": 47,
   "metadata": {},
   "outputs": [
    {
     "data": {
      "text/plain": [
       "<matplotlib.legend.Legend at 0x2391c2db730>"
      ]
     },
     "execution_count": 47,
     "metadata": {},
     "output_type": "execute_result"
    },
    {
     "data": {
      "image/png": "[encoded data removed]",
      "text/plain": [
       "<Figure size 864x576 with 1 Axes>"
      ]
     },
     "metadata": {
      "needs_background": "light"
     },
     "output_type": "display_data"
    }
   ],
   "source": [
    "fig, axes = plt.subplots(1, sharex=True, figsize=(12, 8))\n",
    "fig.suptitle('Accuracy')\n",
    "\n",
    "axes.set_ylabel(\"Accuracy (%)\", fontsize=14)\n",
    "axes.set_xlabel(\"Number Of Training Data\", fontsize=14)\n",
    "plt.ylim([0, 100])\n",
    "plt.xticks(sizes)\n",
    "\n",
    "axes.plot(sizes, results[\"accuracy_score\"], marker=\"+\", color=\"g\", label=\"save_node_unified (0.1)\")\n",
    "\n",
    "axes.legend()"
   ]
  },
  {
   "cell_type": "code",
   "execution_count": 48,
   "metadata": {},
   "outputs": [
    {
     "data": {
      "text/plain": [
       "<matplotlib.legend.Legend at 0x2391df0ee50>"
      ]
     },
     "execution_count": 48,
     "metadata": {},
     "output_type": "execute_result"
    },
    {
     "data": {
      "image/png": "[encoded data removed]",
      "text/plain": [
       "<Figure size 864x576 with 1 Axes>"
      ]
     },
     "metadata": {
      "needs_background": "light"
     },
     "output_type": "display_data"
    }
   ],
   "source": [
    "fig, axes = plt.subplots(1, sharex=True, figsize=(12, 8))\n",
    "fig.suptitle('F-Measure')\n",
    "\n",
    "axes.set_ylabel(\"F-Measure (%)\", fontsize=14)\n",
    "axes.set_xlabel(\"Number Of Training Data\", fontsize=14)\n",
    "plt.ylim([0, 100])\n",
    "plt.xticks(sizes)\n",
    "\n",
    "axes.plot(sizes, results[\"f1_score\"], marker=\"+\", color=\"g\", label=\"save_node_unified (0.1)\")\n",
    "\n",
    "axes.legend()"
   ]
  },
  {
   "cell_type": "code",
   "execution_count": null,
   "metadata": {},
   "outputs": [],
   "source": []
  }
 ],
 "metadata": {
  "kernelspec": {
   "display_name": "Python 3",
   "language": "python",
   "name": "python3"
  },
  "language_info": {
   "codemirror_mode": {
    "name": "ipython",
    "version": 3
   },
   "file_extension": ".py",
   "mimetype": "text/x-python",
   "name": "python",
   "nbconvert_exporter": "python",
   "pygments_lexer": "ipython3",
   "version": "3.8.5"
  }
 },
 "nbformat": 4,
 "nbformat_minor": 4
}
